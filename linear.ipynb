{
 "cells": [
  {
   "cell_type": "markdown",
   "id": "3278cc3c-f265-429b-8160-e8fa6a6799ea",
   "metadata": {},
   "source": [
    "# Fruit or Vegatable?\n",
    "From the point of view of biology and botanic a tomato is a fruit, but from the point of view of food it is commonly considered a vegetable.\n",
    "\n",
    "So how to distinguish between culinary fruit and vegetables? We will train a simple linear binary classification with the aim to distinguish culinary fruit from vegatables taking in account the fact it is botanically a fruit, the fact that it grows on tree or not, the fact that it grows underground or not, and nutritional informations."
   ]
  },
  {
   "cell_type": "code",
   "execution_count": 1,
   "id": "ca10ed27-0e21-4b4f-843c-d6150e6dc523",
   "metadata": {},
   "outputs": [],
   "source": [
    "import numpy as np\n",
    "import pandas as pd\n",
    "from sklearn.linear_model import RidgeClassifier\n",
    "import matplotlib.pyplot as plt"
   ]
  },
  {
   "cell_type": "markdown",
   "id": "fb4ef2f9-6161-47c0-8046-b10e7d266e3c",
   "metadata": {},
   "source": [
    "Read input database (nutritional informations taken from ANSES-CIQUAL 2020, https://data.europa.eu/data/datasets/5369a15fa3a729239d2065b7)"
   ]
  },
  {
   "cell_type": "code",
   "execution_count": 2,
   "id": "52c4a397-3f84-46bd-8837-15c133430c09",
   "metadata": {},
   "outputs": [],
   "source": [
    "df = pd.read_csv('db.csv')"
   ]
  },
  {
   "cell_type": "markdown",
   "id": "822b39bb-1a76-4102-83cf-ecf74e02699e",
   "metadata": {},
   "source": [
    "Print size of dataframe and training set"
   ]
  },
  {
   "cell_type": "code",
   "execution_count": 3,
   "id": "74c8090c-48c3-4a56-8fa6-00e44a192f14",
   "metadata": {},
   "outputs": [
    {
     "data": {
      "text/plain": [
       "(114, 79)"
      ]
     },
     "execution_count": 3,
     "metadata": {},
     "output_type": "execute_result"
    }
   ],
   "source": [
    "(df.shape[0], training_size := int(.7 * df.shape[0]))"
   ]
  },
  {
   "cell_type": "code",
   "execution_count": 4,
   "id": "776aaafa-a050-4530-a219-35527e3bcdb7",
   "metadata": {},
   "outputs": [
    {
     "data": {
      "text/html": [
       "<div>\n",
       "<style scoped>\n",
       "    .dataframe tbody tr th:only-of-type {\n",
       "        vertical-align: middle;\n",
       "    }\n",
       "\n",
       "    .dataframe tbody tr th {\n",
       "        vertical-align: top;\n",
       "    }\n",
       "\n",
       "    .dataframe thead th {\n",
       "        text-align: right;\n",
       "    }\n",
       "</style>\n",
       "<table border=\"1\" class=\"dataframe\">\n",
       "  <thead>\n",
       "    <tr style=\"text-align: right;\">\n",
       "      <th></th>\n",
       "      <th>alim_nom_eng</th>\n",
       "      <th>Culinary Fruit or Vegetable</th>\n",
       "      <th>Botanical fruit</th>\n",
       "      <th>Grows on tree</th>\n",
       "      <th>Grows underground</th>\n",
       "      <th>Water (g/100g)</th>\n",
       "      <th>Protein (g/100g)</th>\n",
       "      <th>Carbohydrate (g/100g)</th>\n",
       "      <th>Fat (g/100g)</th>\n",
       "      <th>Sugars (g/100g)</th>\n",
       "      <th>...</th>\n",
       "      <th>Vitamin K1 (µg/100g)</th>\n",
       "      <th>Vitamin K2 (µg/100g)</th>\n",
       "      <th>Vitamin C (mg/100g)</th>\n",
       "      <th>Vitamin B1 or Thiamin (mg/100g)</th>\n",
       "      <th>Vitamin B2 or Riboflavin (mg/100g)</th>\n",
       "      <th>Vitamin B3 or Niacin (mg/100g)</th>\n",
       "      <th>Vitamin B5 or Pantothenic acid (mg/100g)</th>\n",
       "      <th>Vitamin B6 (mg/100g)</th>\n",
       "      <th>Vitamin B9 or Folate (µg/100g)</th>\n",
       "      <th>Vitamin B12 (µg/100g)</th>\n",
       "    </tr>\n",
       "  </thead>\n",
       "  <tbody>\n",
       "    <tr>\n",
       "      <th>0</th>\n",
       "      <td>Avocado, pulp, raw</td>\n",
       "      <td>F</td>\n",
       "      <td>1</td>\n",
       "      <td>1</td>\n",
       "      <td>0</td>\n",
       "      <td>70.3</td>\n",
       "      <td>1.56</td>\n",
       "      <td>0.83</td>\n",
       "      <td>20.60</td>\n",
       "      <td>0.4</td>\n",
       "      <td>...</td>\n",
       "      <td>14.50</td>\n",
       "      <td>0</td>\n",
       "      <td>0.50</td>\n",
       "      <td>0.052</td>\n",
       "      <td>0.037</td>\n",
       "      <td>1.56</td>\n",
       "      <td>1.07</td>\n",
       "      <td>0.170</td>\n",
       "      <td>70.4</td>\n",
       "      <td>0</td>\n",
       "    </tr>\n",
       "    <tr>\n",
       "      <th>1</th>\n",
       "      <td>Swiss chard, raw</td>\n",
       "      <td>V</td>\n",
       "      <td>0</td>\n",
       "      <td>0</td>\n",
       "      <td>0</td>\n",
       "      <td>95.4</td>\n",
       "      <td>1.00</td>\n",
       "      <td>1.63</td>\n",
       "      <td>0.50</td>\n",
       "      <td>1.2</td>\n",
       "      <td>...</td>\n",
       "      <td>0.80</td>\n",
       "      <td>0</td>\n",
       "      <td>3.08</td>\n",
       "      <td>0.015</td>\n",
       "      <td>0.015</td>\n",
       "      <td>0.10</td>\n",
       "      <td>0.20</td>\n",
       "      <td>0.036</td>\n",
       "      <td>24.7</td>\n",
       "      <td>0</td>\n",
       "    </tr>\n",
       "    <tr>\n",
       "      <th>2</th>\n",
       "      <td>Carrot, raw</td>\n",
       "      <td>V</td>\n",
       "      <td>0</td>\n",
       "      <td>0</td>\n",
       "      <td>1</td>\n",
       "      <td>88.1</td>\n",
       "      <td>0.63</td>\n",
       "      <td>7.59</td>\n",
       "      <td>0.50</td>\n",
       "      <td>6.0</td>\n",
       "      <td>...</td>\n",
       "      <td>2.96</td>\n",
       "      <td>0</td>\n",
       "      <td>2.05</td>\n",
       "      <td>0.028</td>\n",
       "      <td>0.010</td>\n",
       "      <td>0.10</td>\n",
       "      <td>0.20</td>\n",
       "      <td>0.093</td>\n",
       "      <td>59.4</td>\n",
       "      <td>0</td>\n",
       "    </tr>\n",
       "    <tr>\n",
       "      <th>3</th>\n",
       "      <td>Curly endive, raw</td>\n",
       "      <td>V</td>\n",
       "      <td>0</td>\n",
       "      <td>0</td>\n",
       "      <td>0</td>\n",
       "      <td>92.9</td>\n",
       "      <td>1.48</td>\n",
       "      <td>2.40</td>\n",
       "      <td>0.25</td>\n",
       "      <td>0.7</td>\n",
       "      <td>...</td>\n",
       "      <td>298.00</td>\n",
       "      <td>0</td>\n",
       "      <td>18.50</td>\n",
       "      <td>0.070</td>\n",
       "      <td>0.088</td>\n",
       "      <td>0.45</td>\n",
       "      <td>1.03</td>\n",
       "      <td>0.063</td>\n",
       "      <td>126.0</td>\n",
       "      <td>0</td>\n",
       "    </tr>\n",
       "    <tr>\n",
       "      <th>4</th>\n",
       "      <td>Red cabbage, raw</td>\n",
       "      <td>V</td>\n",
       "      <td>0</td>\n",
       "      <td>0</td>\n",
       "      <td>0</td>\n",
       "      <td>90.7</td>\n",
       "      <td>1.13</td>\n",
       "      <td>4.33</td>\n",
       "      <td>0.50</td>\n",
       "      <td>3.9</td>\n",
       "      <td>...</td>\n",
       "      <td>6.41</td>\n",
       "      <td>0</td>\n",
       "      <td>18.70</td>\n",
       "      <td>0.036</td>\n",
       "      <td>0.010</td>\n",
       "      <td>0.12</td>\n",
       "      <td>0.24</td>\n",
       "      <td>0.140</td>\n",
       "      <td>31.9</td>\n",
       "      <td>0</td>\n",
       "    </tr>\n",
       "  </tbody>\n",
       "</table>\n",
       "<p>5 rows × 67 columns</p>\n",
       "</div>"
      ],
      "text/plain": [
       "         alim_nom_eng Culinary Fruit or Vegetable  Botanical fruit  \\\n",
       "0  Avocado, pulp, raw                           F                1   \n",
       "1    Swiss chard, raw                           V                0   \n",
       "2         Carrot, raw                           V                0   \n",
       "3   Curly endive, raw                           V                0   \n",
       "4    Red cabbage, raw                           V                0   \n",
       "\n",
       "   Grows on tree  Grows underground  Water (g/100g)  Protein (g/100g)  \\\n",
       "0              1                  0            70.3              1.56   \n",
       "1              0                  0            95.4              1.00   \n",
       "2              0                  1            88.1              0.63   \n",
       "3              0                  0            92.9              1.48   \n",
       "4              0                  0            90.7              1.13   \n",
       "\n",
       "   Carbohydrate (g/100g)  Fat (g/100g)  Sugars (g/100g)  ...  \\\n",
       "0                   0.83         20.60              0.4  ...   \n",
       "1                   1.63          0.50              1.2  ...   \n",
       "2                   7.59          0.50              6.0  ...   \n",
       "3                   2.40          0.25              0.7  ...   \n",
       "4                   4.33          0.50              3.9  ...   \n",
       "\n",
       "   Vitamin K1 (µg/100g)  Vitamin K2 (µg/100g)  Vitamin C (mg/100g)  \\\n",
       "0                 14.50                     0                 0.50   \n",
       "1                  0.80                     0                 3.08   \n",
       "2                  2.96                     0                 2.05   \n",
       "3                298.00                     0                18.50   \n",
       "4                  6.41                     0                18.70   \n",
       "\n",
       "   Vitamin B1 or Thiamin (mg/100g)  Vitamin B2 or Riboflavin (mg/100g)  \\\n",
       "0                            0.052                               0.037   \n",
       "1                            0.015                               0.015   \n",
       "2                            0.028                               0.010   \n",
       "3                            0.070                               0.088   \n",
       "4                            0.036                               0.010   \n",
       "\n",
       "   Vitamin B3 or Niacin (mg/100g)  Vitamin B5 or Pantothenic acid (mg/100g)  \\\n",
       "0                            1.56                                      1.07   \n",
       "1                            0.10                                      0.20   \n",
       "2                            0.10                                      0.20   \n",
       "3                            0.45                                      1.03   \n",
       "4                            0.12                                      0.24   \n",
       "\n",
       "   Vitamin B6 (mg/100g)  Vitamin B9 or Folate (µg/100g)  Vitamin B12 (µg/100g)  \n",
       "0                 0.170                            70.4                      0  \n",
       "1                 0.036                            24.7                      0  \n",
       "2                 0.093                            59.4                      0  \n",
       "3                 0.063                           126.0                      0  \n",
       "4                 0.140                            31.9                      0  \n",
       "\n",
       "[5 rows x 67 columns]"
      ]
     },
     "execution_count": 4,
     "metadata": {},
     "output_type": "execute_result"
    }
   ],
   "source": [
    "df.head()"
   ]
  },
  {
   "cell_type": "markdown",
   "id": "597a9f6f-c954-4323-8dc9-f9960217b47d",
   "metadata": {},
   "source": [
    "Prepare data to training:"
   ]
  },
  {
   "cell_type": "code",
   "execution_count": 5,
   "id": "7427589a-c650-43c9-9dbe-51c296366f69",
   "metadata": {},
   "outputs": [],
   "source": [
    "while True:\n",
    "  df = df.sample(frac=1) #shuffle\n",
    "  \n",
    "  X = df[df.columns[2:]].to_numpy() # discard name\n",
    "  y = df[df.columns[1]].map(lambda t: t == 'V').to_numpy() # cast Vegatable/Fruit enum to boolean\n",
    "  \n",
    "  X_training, X_test = X[:training_size], X[training_size:]\n",
    "  y_training, y_test = y[:training_size], y[training_size:]\n",
    "  \n",
    "  n_veg = y_training.sum();\n",
    "  if abs(training_size - 2*n_veg)/(training_size) < 1/4: # shuffle until fruits and vegetables are balanced\n",
    "    break"
   ]
  },
  {
   "cell_type": "markdown",
   "id": "05fa93f1-9284-4a5a-a14a-7538eb4523e9",
   "metadata": {},
   "source": [
    "## Test 1\n",
    "Train with linear binary classification"
   ]
  },
  {
   "cell_type": "code",
   "execution_count": 6,
   "id": "b78508a5-b18f-438d-bc40-089d973040e4",
   "metadata": {},
   "outputs": [
    {
     "data": {
      "text/plain": [
       "0.9746835443037974"
      ]
     },
     "execution_count": 6,
     "metadata": {},
     "output_type": "execute_result"
    }
   ],
   "source": [
    "clf = RidgeClassifier().fit(X_training, y_training)\n",
    "clf.score(X_training, y_training) # training error"
   ]
  },
  {
   "cell_type": "code",
   "execution_count": 7,
   "id": "eb855d54-721f-431b-88e5-ecb7f3adcab7",
   "metadata": {},
   "outputs": [
    {
     "data": {
      "text/plain": [
       "0.9714285714285714"
      ]
     },
     "execution_count": 7,
     "metadata": {},
     "output_type": "execute_result"
    }
   ],
   "source": [
    "clf.score(X_test, y_test) # test error"
   ]
  },
  {
   "cell_type": "code",
   "execution_count": 8,
   "id": "48f80d8c-5cb6-4833-a027-98e08e8e5505",
   "metadata": {},
   "outputs": [],
   "source": [
    "def plot_coef(clf, n=5): # plot most influent features\n",
    "  coef = abs(clf.coef_[0])\n",
    "  idx = coef >= sorted(coef)[-n]\n",
    "\n",
    "  fig,ax = plt.subplots()\n",
    "  ax.bar(df.columns[2:][idx], clf.coef_[0][idx])\n",
    "  ax.set_ylabel('← Fruit | Vegetable →')\n",
    "  fig.autofmt_xdate(rotation=45)\n",
    "  plt.show()"
   ]
  },
  {
   "cell_type": "code",
   "execution_count": 9,
   "id": "87efe1c6-e1bc-4438-89c9-5434399391a5",
   "metadata": {},
   "outputs": [
    {
     "data": {
      "image/png": "[encoded data removed]",
      "text/plain": [
       "<Figure size 432x288 with 1 Axes>"
      ]
     },
     "metadata": {
      "needs_background": "light"
     },
     "output_type": "display_data"
    }
   ],
   "source": [
    "plot_coef(clf) # plot most influent features"
   ]
  },
  {
   "cell_type": "markdown",
   "id": "6bfeeefb-4d56-4b74-81e7-b8bb420fb02e",
   "metadata": {},
   "source": [
    "It seems that usually if it grows on a tree it is considered a fruit (obviously there are some exceptions, e.g. watermelon), and if it grows underground it is a vegetable."
   ]
  },
  {
   "cell_type": "markdown",
   "id": "7a298a84-6ed9-4d23-b027-eedf4b585e8c",
   "metadata": {},
   "source": [
    "## Test 2\n",
    "Remove (put to zero) all features except nutritional values"
   ]
  },
  {
   "cell_type": "code",
   "execution_count": 10,
   "id": "9ac09a74-589c-4628-981a-c0e92caad6cf",
   "metadata": {},
   "outputs": [],
   "source": [
    "X_training[:,:4] = 0"
   ]
  },
  {
   "cell_type": "code",
   "execution_count": 11,
   "id": "c40471e1-6baf-4d2d-b05e-9559c43a5715",
   "metadata": {},
   "outputs": [
    {
     "data": {
      "text/plain": [
       "0.9620253164556962"
      ]
     },
     "execution_count": 11,
     "metadata": {},
     "output_type": "execute_result"
    }
   ],
   "source": [
    "clf = RidgeClassifier().fit(X_training, y_training)\n",
    "clf.score(X_training, y_training) # training error"
   ]
  },
  {
   "cell_type": "code",
   "execution_count": 12,
   "id": "c24e1584-aabd-460d-acfe-2655caa8414a",
   "metadata": {},
   "outputs": [
    {
     "data": {
      "text/plain": [
       "0.9428571428571428"
      ]
     },
     "execution_count": 12,
     "metadata": {},
     "output_type": "execute_result"
    }
   ],
   "source": [
    "clf.score(X_test, y_test) # test error"
   ]
  },
  {
   "cell_type": "code",
   "execution_count": 13,
   "id": "2c794337-e053-43aa-bd65-218998ba8f94",
   "metadata": {},
   "outputs": [
    {
     "data": {
      "image/png": "[encoded data removed]",
      "text/plain": [
       "<Figure size 432x288 with 1 Axes>"
      ]
     },
     "metadata": {
      "needs_background": "light"
     },
     "output_type": "display_data"
    }
   ],
   "source": [
    "plot_coef(clf) # plot most important features"
   ]
  },
  {
   "cell_type": "markdown",
   "id": "078be55d-a192-40da-b540-0c74356531df",
   "metadata": {},
   "source": [
    "If it has manganese it could be a vegetable, otherwise with iron a fruit.\n",
    "\n",
    "I expected that fructose was an important feature to identify fruit and I am very surprised to not see it here."
   ]
  },
  {
   "cell_type": "code",
   "execution_count": null,
   "id": "8563983f-6490-4e5f-8ca7-ac1d3a18a6f3",
   "metadata": {},
   "outputs": [],
   "source": []
  }
 ],
 "metadata": {
  "kernelspec": {
   "display_name": "Python 3",
   "language": "python",
   "name": "python3"
  },
  "language_info": {
   "codemirror_mode": {
    "name": "ipython",
    "version": 3
   },
   "file_extension": ".py",
   "mimetype": "text/x-python",
   "name": "python",
   "nbconvert_exporter": "python",
   "pygments_lexer": "ipython3",
   "version": "3.9.5"
  }
 },
 "nbformat": 4,
 "nbformat_minor": 5
}
